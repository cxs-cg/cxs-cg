{
 "cells": [
  {
   "cell_type": "markdown",
   "metadata": {},
   "source": [
    "<center>\n",
    "    <img src=\"https://cf-courses-data.s3.us.cloud-object-storage.appdomain.cloud/IBMDeveloperSkillsNetwork-DS0105EN-SkillsNetwork/labs/Module2/images/SN_web_lightmode.png\" width=\"300\" alt=\"cognitiveclass.ai logo\">\n",
    "</center>\n"
   ]
  },
  {
   "cell_type": "markdown",
   "metadata": {},
   "source": [
    "#### Add your code below following the instructions given in the course\n"
   ]
  },
  {
   "cell_type": "markdown",
   "metadata": {},
   "source": [
    "# Introduction to IBM Jupyterlite Notebook and Arithmetic Expressions"
   ]
  },
  {
   "cell_type": "markdown",
   "metadata": {},
   "source": [
    "This notebook will quickly cover several points introducing basic data science and arithmetic expressions using the Jupyterlite Notebook."
   ]
  },
  {
   "cell_type": "markdown",
   "metadata": {},
   "source": [
    "Languages used for data science may include:\n",
    "* Python\n",
    "* R\n",
    "* Julia\n",
    "* Ruby\n",
    "* SQL"
   ]
  },
  {
   "cell_type": "markdown",
   "metadata": {},
   "source": [
    "Popular libraries include:\n",
    "* NumPy\n",
    "* Pandas\n",
    "* Matplotlib\n",
    "* Seaborn\n",
    "* And more!"
   ]
  },
  {
   "cell_type": "markdown",
   "metadata": {},
   "source": [
    "Some tools that data scientists use include:\n",
    "* Google Collab, Visual Studio Code, etcetera  \n",
    "* PowerBI, Tableau, and Excel\n",
    "* GitHub, Gitlab, etc"
   ]
  },
  {
   "cell_type": "markdown",
   "metadata": {},
   "source": [
    "A quick example, in a markdown, of what an arithmetic expression looks like:\n",
    "\n",
    "(1 + 2) = 3"
   ]
  },
  {
   "cell_type": "code",
   "execution_count": 9,
   "metadata": {
    "tags": []
   },
   "outputs": [
    {
     "data": {
      "text/plain": [
       "6"
      ]
     },
     "execution_count": 9,
     "metadata": {},
     "output_type": "execute_result"
    }
   ],
   "source": [
    "# Create a code cell to multiply and add numbers\n",
    "\n",
    "# Define the variables\n",
    "a = 1\n",
    "b = 2\n",
    "\n",
    "# Add first\n",
    "a + b\n",
    "\n",
    "# Then multiply\n",
    "a * b\n",
    "\n",
    "# Finally combine the two\n",
    "\n",
    "(a + b) * a * b\n",
    "\n",
    "# Note, the output will only show the last calculation\n"
   ]
  },
  {
   "cell_type": "code",
   "execution_count": 23,
   "metadata": {
    "tags": []
   },
   "outputs": [
    {
     "name": "stdout",
     "output_type": "stream",
     "text": [
      "2.0 Hours\n"
     ]
    }
   ],
   "source": [
    "mins = 120 \n",
    "hrs = mins / 60\n",
    "print(hrs, \"Hours\")"
   ]
  },
  {
   "cell_type": "markdown",
   "metadata": {},
   "source": [
    "No idea what to put in the objectives... So, I guess I'll just copy the exercises here:\n",
    "\n",
    "* Exercise 2 - Create a markdown cell with the title of the notebook. (1 pt)\n",
    "\n",
    "* Exercise 3 - Create a markdown cell for an introduction. (1 pt)\n",
    "\n",
    "* Exercise 4 - Create a markdown cell to list data science languages. (3 pts)\n",
    "\n",
    "* Exercise 5 - Create a markdown cell to list data science libraries. (3 pts)\n",
    "\n",
    "* Exercise 6 - Create a markdown cell with a table of Data Science tools. (3 pts)\n",
    "\n",
    "* Exercise 7 - Create a markdown cell introducing arithmetic expression examples. (1 pt)\n",
    "\n",
    "* Exercise 8 - Create a code cell to multiply and add numbers. (2 pts)\n",
    "\n",
    "* Exercise 9 - Create a code cell to convert minutes to hours. (2 pts)\n",
    "\n",
    "* Exercise 10 -Insert a markdown cell to list Objectives. (3 pts)\n",
    "\n",
    "* Exercise 11 - Create a markdown cell to indicate the Author’s name. (2 pts)\n",
    "\n",
    "* Exercise 12 - Share your notebook through GitHub (3 pts)\n",
    "\n",
    "* Exercise 13 - Take a screenshot of the first page of the notebook. (1 pt)"
   ]
  },
  {
   "cell_type": "markdown",
   "metadata": {},
   "source": [
    "My name for anyone who looks: **Colin Garcia**"
   ]
  },
  {
   "cell_type": "markdown",
   "metadata": {},
   "source": [
    "A reminder to: 1.) Upload to GitHub 2.) Take a screenshot of the first page of the notebook"
   ]
  }
 ],
 "metadata": {
  "kernelspec": {
   "display_name": "Python",
   "language": "python",
   "name": "conda-env-python-py"
  },
  "language_info": {
   "codemirror_mode": {
    "name": "ipython",
    "version": 3
   },
   "file_extension": ".py",
   "mimetype": "text/x-python",
   "name": "python",
   "nbconvert_exporter": "python",
   "pygments_lexer": "ipython3",
   "version": "3.7.12"
  }
 },
 "nbformat": 4,
 "nbformat_minor": 4
}
